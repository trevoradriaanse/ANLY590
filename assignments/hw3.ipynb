{
  "nbformat": 4,
  "nbformat_minor": 0,
  "metadata": {
    "colab": {
      "name": "hw3.ipynb",
      "provenance": [],
      "collapsed_sections": []
    },
    "kernelspec": {
      "name": "python3",
      "display_name": "Python 3"
    }
  },
  "cells": [
    {
      "cell_type": "markdown",
      "metadata": {
        "id": "kFlg8P3QfLXM",
        "colab_type": "text"
      },
      "source": [
        "####HW 3: Convolutional and Recurrent Neural Nets"
      ]
    },
    {
      "cell_type": "code",
      "metadata": {
        "id": "qXMifg59f5HO",
        "colab_type": "code",
        "outputId": "daacbc4c-9031-4461-8114-a370a470d6db",
        "colab": {
          "base_uri": "https://localhost:8080/",
          "height": 80
        }
      },
      "source": [
        "import tensorflow as tf\n",
        "import numpy as np\n",
        "import pandas as pd\n",
        "import matplotlib.pyplot as plt\n",
        "from matplotlib.pyplot import imshow\n",
        "from keras.utils import to_categorical\n",
        "from keras.preprocessing.text import Tokenizer\n",
        "from tensorflow.keras.preprocessing.sequence import pad_sequences\n",
        "from sklearn.model_selection import train_test_split\n",
        "from tensorflow.keras.applications.vgg16 import VGG16\n",
        "import cv2\n",
        "import re"
      ],
      "execution_count": 1,
      "outputs": [
        {
          "output_type": "display_data",
          "data": {
            "text/html": [
              "<p style=\"color: red;\">\n",
              "The default version of TensorFlow in Colab will soon switch to TensorFlow 2.x.<br>\n",
              "We recommend you <a href=\"https://www.tensorflow.org/guide/migrate\" target=\"_blank\">upgrade</a> now \n",
              "or ensure your notebook will continue to use TensorFlow 1.x via the <code>%tensorflow_version 1.x</code> magic:\n",
              "<a href=\"https://colab.research.google.com/notebooks/tensorflow_version.ipynb\" target=\"_blank\">more info</a>.</p>\n"
            ],
            "text/plain": [
              "<IPython.core.display.HTML object>"
            ]
          },
          "metadata": {
            "tags": []
          }
        },
        {
          "output_type": "stream",
          "text": [
            "Using TensorFlow backend.\n"
          ],
          "name": "stderr"
        }
      ]
    },
    {
      "cell_type": "code",
      "metadata": {
        "id": "feOOEHxbiNsU",
        "colab_type": "code",
        "outputId": "d979b1b8-b361-433b-9e7b-c77fbdb9afe6",
        "colab": {
          "base_uri": "https://localhost:8080/",
          "height": 34
        }
      },
      "source": [
        "# use tf 1.15.0 since 2.0.0 runs slowly on Colab\n",
        "print(tf.__version__)"
      ],
      "execution_count": 2,
      "outputs": [
        {
          "output_type": "stream",
          "text": [
            "1.15.0\n"
          ],
          "name": "stdout"
        }
      ]
    },
    {
      "cell_type": "markdown",
      "metadata": {
        "id": "MNgIEluffSI8",
        "colab_type": "text"
      },
      "source": [
        "#### **Problem 1 (Convolutional Autoencoder).**\n",
        "\n",
        "We build and fit a convolutional autoencoder for the Fashion MNIST dataset. Autoencoders learn to encode/compress data and decode/reconstruct the encoded representation to another representation that is as close to the original input as possible. Accordingly, one practical application of autoencoders is data compression.\n",
        "\n",
        "The encoder will pass the data through a few convolutional layers, and the decoder will use `UpSampling2D` to get the representation back to the original size. We will also visualize input images together with their decoded reconstruction."
      ]
    },
    {
      "cell_type": "code",
      "metadata": {
        "id": "z6MlyzeQe-Cj",
        "colab_type": "code",
        "outputId": "c5f61993-b727-4f2c-8606-7d02add746a8",
        "colab": {
          "base_uri": "https://localhost:8080/",
          "height": 153
        }
      },
      "source": [
        "(x_train, y_train), (x_test, y_test) = tf.keras.datasets.fashion_mnist.load_data()"
      ],
      "execution_count": 4,
      "outputs": [
        {
          "output_type": "stream",
          "text": [
            "Downloading data from https://storage.googleapis.com/tensorflow/tf-keras-datasets/train-labels-idx1-ubyte.gz\n",
            "32768/29515 [=================================] - 0s 0us/step\n",
            "Downloading data from https://storage.googleapis.com/tensorflow/tf-keras-datasets/train-images-idx3-ubyte.gz\n",
            "26427392/26421880 [==============================] - 0s 0us/step\n",
            "Downloading data from https://storage.googleapis.com/tensorflow/tf-keras-datasets/t10k-labels-idx1-ubyte.gz\n",
            "8192/5148 [===============================================] - 0s 0us/step\n",
            "Downloading data from https://storage.googleapis.com/tensorflow/tf-keras-datasets/t10k-images-idx3-ubyte.gz\n",
            "4423680/4422102 [==============================] - 0s 0us/step\n"
          ],
          "name": "stdout"
        }
      ]
    },
    {
      "cell_type": "code",
      "metadata": {
        "id": "DizQ8ZcbjXLI",
        "colab_type": "code",
        "outputId": "c7e04fa3-5245-4cde-b755-da760039f52a",
        "colab": {
          "base_uri": "https://localhost:8080/",
          "height": 299
        }
      },
      "source": [
        "print(\"x_train shape:\", x_train.shape, \"y_train shape:\", y_train.shape)\n",
        "imshow(x_train[0], cmap='bone')\n",
        "print(y_train[0])"
      ],
      "execution_count": 5,
      "outputs": [
        {
          "output_type": "stream",
          "text": [
            "x_train shape: (60000, 28, 28) y_train shape: (60000,)\n",
            "9\n"
          ],
          "name": "stdout"
        },
        {
          "output_type": "display_data",
          "data": {
            "image/png": "[encoded data removed]",
            "text/plain": [
              "<Figure size 432x288 with 1 Axes>"
            ]
          },
          "metadata": {
            "tags": []
          }
        }
      ]
    },
    {
      "cell_type": "code",
      "metadata": {
        "id": "7q3Bbh_RlyrM",
        "colab_type": "code",
        "colab": {}
      },
      "source": [
        "x_train, x_test = x_train.reshape(x_train.shape[0], 28, 28, 1), x_test.reshape(x_test.shape[0], 28, 28, 1)\n",
        "\n",
        "x_train = x_train.astype('float32') / 255\n",
        "x_test = x_test.astype('float32') / 255\n",
        "y_train = to_categorical(y_train)\n",
        "y_test = to_categorical(y_test)"
      ],
      "execution_count": 0,
      "outputs": []
    },
    {
      "cell_type": "code",
      "metadata": {
        "id": "4s5JQMLQEE5O",
        "colab_type": "code",
        "outputId": "f9b8cccc-109a-4aba-f4e1-0b56fd077651",
        "colab": {
          "base_uri": "https://localhost:8080/",
          "height": 85
        }
      },
      "source": [
        "print(x_train.shape)\n",
        "print(x_test.shape)\n",
        "print(y_train.shape)\n",
        "print(y_test.shape)"
      ],
      "execution_count": 7,
      "outputs": [
        {
          "output_type": "stream",
          "text": [
            "(60000, 28, 28, 1)\n",
            "(10000, 28, 28, 1)\n",
            "(60000, 10)\n",
            "(10000, 10)\n"
          ],
          "name": "stdout"
        }
      ]
    },
    {
      "cell_type": "code",
      "metadata": {
        "id": "llKWwhNBjwUz",
        "colab_type": "code",
        "colab": {}
      },
      "source": [
        "tfkl = tf.keras.layers"
      ],
      "execution_count": 0,
      "outputs": []
    },
    {
      "cell_type": "code",
      "metadata": {
        "id": "1qP30xbKklKr",
        "colab_type": "code",
        "outputId": "13d199f6-3b86-4b8a-d5e4-e8b8a1ba4f2b",
        "colab": {
          "base_uri": "https://localhost:8080/",
          "height": 833
        }
      },
      "source": [
        "input_tensor = tfkl.Input(shape=(28, 28, 1))\n",
        "conv_1 = tfkl.Conv2D(16, (3,3), padding='same', use_bias=False)(input_tensor)\n",
        "pool_1 = tfkl.MaxPooling2D((2, 2), padding='same')(conv_1)\n",
        "norm_1 = tfkl.BatchNormalization()(pool_1)\n",
        "relu_1 = tfkl.Activation('relu')(norm_1)\n",
        "\n",
        "conv_2 = tfkl.Conv2D(16, (3,3), padding='same', use_bias=False)(relu_1)\n",
        "pool_2 = tfkl.MaxPooling2D((2, 2), padding='same')(conv_2)\n",
        "norm_2 = tfkl.BatchNormalization()(pool_2)\n",
        "relu_2 = tfkl.Activation('relu')(norm_2)\n",
        "\n",
        "conv_2 = tfkl.Conv2D(4, (3,3), padding='same', use_bias=False)(relu_2)\n",
        "pool_2 = tfkl.MaxPooling2D((2, 2), padding='same')(conv_2)\n",
        "norm_2 = tfkl.BatchNormalization()(pool_2)\n",
        "encoded = tfkl.Activation('relu')(norm_2)\n",
        "\n",
        "conv_3 = tfkl.Conv2D(4, (3, 3), activation='relu', padding='same')(encoded)\n",
        "samp_1 = tfkl.UpSampling2D((2, 2))(conv_3)\n",
        "\n",
        "conv_3 = tfkl.Conv2D(8, (3, 3), activation='relu', padding='same')(samp_1)\n",
        "samp_1 = tfkl.UpSampling2D((2, 2))(conv_3)\n",
        "conv_4 = tfkl.Conv2D(16, (3, 3), activation='relu')(samp_1)\n",
        "samp_2 = tfkl.UpSampling2D((2, 2))(conv_4)\n",
        "decoded = tfkl.Conv2D(1, (3, 3), activation='sigmoid', padding='same')(samp_2)\n",
        "\n",
        "autoencoder = tf.keras.Model(input_tensor, decoded)\n",
        "autoencoder.summary()"
      ],
      "execution_count": 0,
      "outputs": [
        {
          "output_type": "stream",
          "text": [
            "Model: \"model_24\"\n",
            "_________________________________________________________________\n",
            "Layer (type)                 Output Shape              Param #   \n",
            "=================================================================\n",
            "input_28 (InputLayer)        [(None, 28, 28, 1)]       0         \n",
            "_________________________________________________________________\n",
            "conv2d_158 (Conv2D)          (None, 28, 28, 16)        144       \n",
            "_________________________________________________________________\n",
            "max_pooling2d_69 (MaxPooling (None, 14, 14, 16)        0         \n",
            "_________________________________________________________________\n",
            "batch_normalization_69 (Batc (None, 14, 14, 16)        64        \n",
            "_________________________________________________________________\n",
            "activation_69 (Activation)   (None, 14, 14, 16)        0         \n",
            "_________________________________________________________________\n",
            "conv2d_159 (Conv2D)          (None, 14, 14, 16)        2304      \n",
            "_________________________________________________________________\n",
            "max_pooling2d_70 (MaxPooling (None, 7, 7, 16)          0         \n",
            "_________________________________________________________________\n",
            "batch_normalization_70 (Batc (None, 7, 7, 16)          64        \n",
            "_________________________________________________________________\n",
            "activation_70 (Activation)   (None, 7, 7, 16)          0         \n",
            "_________________________________________________________________\n",
            "conv2d_160 (Conv2D)          (None, 7, 7, 4)           576       \n",
            "_________________________________________________________________\n",
            "max_pooling2d_71 (MaxPooling (None, 4, 4, 4)           0         \n",
            "_________________________________________________________________\n",
            "batch_normalization_71 (Batc (None, 4, 4, 4)           16        \n",
            "_________________________________________________________________\n",
            "activation_71 (Activation)   (None, 4, 4, 4)           0         \n",
            "_________________________________________________________________\n",
            "conv2d_161 (Conv2D)          (None, 4, 4, 4)           148       \n",
            "_________________________________________________________________\n",
            "up_sampling2d_63 (UpSampling (None, 8, 8, 4)           0         \n",
            "_________________________________________________________________\n",
            "conv2d_162 (Conv2D)          (None, 8, 8, 8)           296       \n",
            "_________________________________________________________________\n",
            "up_sampling2d_64 (UpSampling (None, 16, 16, 8)         0         \n",
            "_________________________________________________________________\n",
            "conv2d_163 (Conv2D)          (None, 14, 14, 16)        1168      \n",
            "_________________________________________________________________\n",
            "up_sampling2d_65 (UpSampling (None, 28, 28, 16)        0         \n",
            "_________________________________________________________________\n",
            "conv2d_164 (Conv2D)          (None, 28, 28, 1)         145       \n",
            "=================================================================\n",
            "Total params: 4,925\n",
            "Trainable params: 4,853\n",
            "Non-trainable params: 72\n",
            "_________________________________________________________________\n"
          ],
          "name": "stdout"
        }
      ]
    },
    {
      "cell_type": "code",
      "metadata": {
        "id": "v12GR4EAC2iJ",
        "colab_type": "code",
        "colab": {}
      },
      "source": [
        "autoencoder.compile(optimizer='adam', loss='binary_crossentropy', metrics=['accuracy'])"
      ],
      "execution_count": 0,
      "outputs": []
    },
    {
      "cell_type": "code",
      "metadata": {
        "id": "HBWbQaV0C29P",
        "colab_type": "code",
        "outputId": "d6e6bcaf-670a-4ef7-a917-035ceef737ce",
        "colab": {
          "base_uri": "https://localhost:8080/",
          "height": 374
        }
      },
      "source": [
        "history = autoencoder.fit(x_train, x_train, epochs=10, batch_size=256)"
      ],
      "execution_count": 0,
      "outputs": [
        {
          "output_type": "stream",
          "text": [
            "Train on 60000 samples\n",
            "Epoch 1/10\n",
            "60000/60000 [==============================] - 87s 1ms/sample - loss: 0.3975 - accuracy: 0.4903\n",
            "Epoch 2/10\n",
            "60000/60000 [==============================] - 86s 1ms/sample - loss: 0.3238 - accuracy: 0.5005\n",
            "Epoch 3/10\n",
            "60000/60000 [==============================] - 86s 1ms/sample - loss: 0.3128 - accuracy: 0.5025\n",
            "Epoch 4/10\n",
            "60000/60000 [==============================] - 86s 1ms/sample - loss: 0.3079 - accuracy: 0.5033\n",
            "Epoch 5/10\n",
            "60000/60000 [==============================] - 86s 1ms/sample - loss: 0.3048 - accuracy: 0.5039\n",
            "Epoch 6/10\n",
            "60000/60000 [==============================] - 86s 1ms/sample - loss: 0.3027 - accuracy: 0.5042\n",
            "Epoch 7/10\n",
            "60000/60000 [==============================] - 86s 1ms/sample - loss: 0.3008 - accuracy: 0.5045\n",
            "Epoch 8/10\n",
            "60000/60000 [==============================] - 86s 1ms/sample - loss: 0.2993 - accuracy: 0.5047\n",
            "Epoch 9/10\n",
            "60000/60000 [==============================] - 86s 1ms/sample - loss: 0.2982 - accuracy: 0.5049\n",
            "Epoch 10/10\n",
            "60000/60000 [==============================] - 86s 1ms/sample - loss: 0.2971 - accuracy: 0.5050\n"
          ],
          "name": "stdout"
        }
      ]
    },
    {
      "cell_type": "code",
      "metadata": {
        "id": "n0nk8hGmQIgI",
        "colab_type": "code",
        "outputId": "3d78b592-fc12-4bd8-8c25-97bd04922c40",
        "colab": {
          "base_uri": "https://localhost:8080/",
          "height": 573
        }
      },
      "source": [
        "# Plot training & validation accuracy values\n",
        "plt.plot(history.history['accuracy'])\n",
        "plt.title('Model accuracy')\n",
        "plt.ylabel('Accuracy')\n",
        "plt.xlabel('Epoch')\n",
        "plt.legend(['Train'], loc='upper left')\n",
        "plt.show()\n",
        "\n",
        "# Plot training & validation loss values\n",
        "plt.plot(history.history['loss'])\n",
        "plt.title('Model loss')\n",
        "plt.ylabel('Loss')\n",
        "plt.xlabel('Epoch')\n",
        "plt.legend(['Train'], loc='upper left')\n",
        "plt.show()"
      ],
      "execution_count": 0,
      "outputs": [
        {
          "output_type": "display_data",
          "data": {
            "image/png": "[encoded data removed]",
            "text/plain": [
              "<Figure size 432x288 with 1 Axes>"
            ]
          },
          "metadata": {
            "tags": []
          }
        },
        {
          "output_type": "display_data",
          "data": {
            "image/png": "[encoded data removed]",
            "text/plain": [
              "<Figure size 432x288 with 1 Axes>"
            ]
          },
          "metadata": {
            "tags": []
          }
        }
      ]
    },
    {
      "cell_type": "markdown",
      "metadata": {
        "id": "uCME7vRUKXLi",
        "colab_type": "text"
      },
      "source": [
        "We visualize some digits reconstructed by the autoencoder."
      ]
    },
    {
      "cell_type": "code",
      "metadata": {
        "id": "GXwx9blqKV6o",
        "colab_type": "code",
        "outputId": "fecaae8c-7bb3-4c40-f30a-c258105474b9",
        "colab": {
          "base_uri": "https://localhost:8080/",
          "height": 248
        }
      },
      "source": [
        "reconstructed = autoencoder.predict(x_test[:10])\n",
        "\n",
        "plt.figure(figsize=(20, 4))\n",
        "for i in range(1, 10):\n",
        "    ax = plt.subplot(2, 10, i)\n",
        "    plt.imshow(x_test[i].reshape(28, 28), cmap='bone')\n",
        "    ax.get_xaxis().set_visible(False)\n",
        "    ax.get_yaxis().set_visible(False)\n",
        "\n",
        "    ax = plt.subplot(2, 10, i + 10)\n",
        "    imshow(reconstructed[i].reshape(28, 28), cmap='bone')\n",
        "    ax.get_xaxis().set_visible(False)\n",
        "    ax.get_yaxis().set_visible(False)\n",
        "plt.show()\n"
      ],
      "execution_count": 0,
      "outputs": [
        {
          "output_type": "display_data",
          "data": {
            "image/png": "[encoded data removed]",
            "text/plain": [
              "<Figure size 1440x288 with 18 Axes>"
            ]
          },
          "metadata": {
            "tags": []
          }
        }
      ]
    },
    {
      "cell_type": "markdown",
      "metadata": {
        "id": "uX7s3gcocwYk",
        "colab_type": "text"
      },
      "source": [
        "From the plots above, we can see that model accuracy rose to roughly 50% within the first epoch, and then remained there afterward.\n",
        "\n",
        "The reconstructed digits produced by the autoencoder roughly resembe the original images. Properties like shape, some coloring, and curvature are represented in the reconstructed output. Essentially, the autoencoder's reconstructed images are outlines of the corresponding input data."
      ]
    },
    {
      "cell_type": "markdown",
      "metadata": {
        "id": "iGLP5S6GgJUQ",
        "colab_type": "text"
      },
      "source": [
        "#### **Problem 2 (Image Classification).**"
      ]
    },
    {
      "cell_type": "markdown",
      "metadata": {
        "id": "f4Tc3Wq0ggDx",
        "colab_type": "text"
      },
      "source": [
        "**2.1 (Deep CNN).** We build a deep CNN to classify images from the Fashion MNIST dataset."
      ]
    },
    {
      "cell_type": "code",
      "metadata": {
        "id": "Ul3g0sIXhhI3",
        "colab_type": "code",
        "outputId": "d132dc18-0153-4c9e-b035-fdd5921e4217",
        "colab": {
          "base_uri": "https://localhost:8080/",
          "height": 462
        }
      },
      "source": [
        "input_tensor = tfkl.Input(shape=(28, 28, 1))\n",
        "conv_1 = tfkl.Conv2D(32, (3, 3), activation='relu')(input_tensor)\n",
        "maxpool_1 = tfkl.MaxPooling2D((2, 2))(conv_1)\n",
        "conv_2 = tfkl.Conv2D(32, (3, 3), activation='relu')(maxpool_1)\n",
        "flatten = tfkl.Flatten()(conv_2)\n",
        "dense_1 = tfkl.Dense(8, activation='relu')(flatten)\n",
        "output = tfkl.Dense(10, activation='softmax')(dense_1)\n",
        "\n",
        "model = tf.keras.Model(inputs=input_tensor, outputs=output)\n",
        "\n",
        "model.summary()"
      ],
      "execution_count": 8,
      "outputs": [
        {
          "output_type": "stream",
          "text": [
            "WARNING:tensorflow:From /usr/local/lib/python3.6/dist-packages/tensorflow_core/python/ops/resource_variable_ops.py:1630: calling BaseResourceVariable.__init__ (from tensorflow.python.ops.resource_variable_ops) with constraint is deprecated and will be removed in a future version.\n",
            "Instructions for updating:\n",
            "If using Keras pass *_constraint arguments to layers.\n",
            "Model: \"model\"\n",
            "_________________________________________________________________\n",
            "Layer (type)                 Output Shape              Param #   \n",
            "=================================================================\n",
            "input_1 (InputLayer)         [(None, 28, 28, 1)]       0         \n",
            "_________________________________________________________________\n",
            "conv2d (Conv2D)              (None, 26, 26, 32)        320       \n",
            "_________________________________________________________________\n",
            "max_pooling2d (MaxPooling2D) (None, 13, 13, 32)        0         \n",
            "_________________________________________________________________\n",
            "conv2d_1 (Conv2D)            (None, 11, 11, 32)        9248      \n",
            "_________________________________________________________________\n",
            "flatten (Flatten)            (None, 3872)              0         \n",
            "_________________________________________________________________\n",
            "dense (Dense)                (None, 8)                 30984     \n",
            "_________________________________________________________________\n",
            "dense_1 (Dense)              (None, 10)                90        \n",
            "=================================================================\n",
            "Total params: 40,642\n",
            "Trainable params: 40,642\n",
            "Non-trainable params: 0\n",
            "_________________________________________________________________\n"
          ],
          "name": "stdout"
        }
      ]
    },
    {
      "cell_type": "code",
      "metadata": {
        "id": "97L0ZkAyPYv6",
        "colab_type": "code",
        "colab": {}
      },
      "source": [
        "opt = tf.keras.optimizers.Adam(learning_rate=0.001)\n",
        "\n",
        "model.compile(optimizer=opt, loss='categorical_crossentropy', metrics=['accuracy'])"
      ],
      "execution_count": 0,
      "outputs": []
    },
    {
      "cell_type": "code",
      "metadata": {
        "id": "-zyXpguVPa-O",
        "colab_type": "code",
        "outputId": "1f3737f8-5525-41de-9c59-0f0899470e4f",
        "colab": {
          "base_uri": "https://localhost:8080/",
          "height": 204
        }
      },
      "source": [
        "history = model.fit(x_train, y_train, validation_data=(x_test, y_test), batch_size=32, epochs=5)"
      ],
      "execution_count": 10,
      "outputs": [
        {
          "output_type": "stream",
          "text": [
            "Train on 60000 samples, validate on 10000 samples\n",
            "Epoch 1/5\n",
            "60000/60000 [==============================] - 46s 766us/sample - loss: 0.6371 - acc: 0.7884 - val_loss: 0.4031 - val_acc: 0.8614\n",
            "Epoch 2/5\n",
            "60000/60000 [==============================] - 46s 759us/sample - loss: 0.3515 - acc: 0.8758 - val_loss: 0.3494 - val_acc: 0.8801\n",
            "Epoch 3/5\n",
            "60000/60000 [==============================] - 45s 743us/sample - loss: 0.3022 - acc: 0.8923 - val_loss: 0.3155 - val_acc: 0.8906\n",
            "Epoch 4/5\n",
            "60000/60000 [==============================] - 45s 743us/sample - loss: 0.2690 - acc: 0.9046 - val_loss: 0.3075 - val_acc: 0.8900\n",
            "Epoch 5/5\n",
            "60000/60000 [==============================] - 45s 746us/sample - loss: 0.2483 - acc: 0.9113 - val_loss: 0.3300 - val_acc: 0.8815\n"
          ],
          "name": "stdout"
        }
      ]
    },
    {
      "cell_type": "code",
      "metadata": {
        "id": "qOrP6jTWPdFu",
        "colab_type": "code",
        "outputId": "7c66e961-6692-4d5c-c207-a50d675a0e78",
        "colab": {
          "base_uri": "https://localhost:8080/",
          "height": 295
        }
      },
      "source": [
        "plt.plot(history.history['acc'])\n",
        "plt.plot(history.history['val_acc'])\n",
        "plt.title('Model accuracy')\n",
        "plt.ylabel('Accuracy')\n",
        "plt.xlabel('Epoch')\n",
        "plt.legend(['Train', 'Test'], loc='upper left')\n",
        "plt.show()"
      ],
      "execution_count": 43,
      "outputs": [
        {
          "output_type": "display_data",
          "data": {
            "image/png": "[encoded data removed]",
            "text/plain": [
              "<Figure size 432x288 with 1 Axes>"
            ]
          },
          "metadata": {
            "tags": []
          }
        }
      ]
    },
    {
      "cell_type": "markdown",
      "metadata": {
        "id": "cGd4BH_fc8ut",
        "colab_type": "text"
      },
      "source": [
        "The CNN model begins with a convolutional layer using 32 filters, a 3x3 kernel, default striding of 1, and no padding (set to 'valid'). It feeds into a maxpooling layer with a (2, 2) pool (so each spatial dimension is reduced by half). This feeds into one more convolutional layer, followed by flattening for the dense classification layer.\n",
        "\n",
        "The model obtains a final accuracy of 91.13 (train) / 88.15 (test). Overall, strong performance with some minor overfitting."
      ]
    },
    {
      "cell_type": "markdown",
      "metadata": {
        "id": "or3pyYB2gkdy",
        "colab_type": "text"
      },
      "source": [
        "**2.2 (Transfer Learning).** This time, we use a pre-trained network. Except for the final Dense classification layer, all previous layers are held fixed."
      ]
    },
    {
      "cell_type": "code",
      "metadata": {
        "id": "yVAiPtszgymN",
        "colab_type": "code",
        "colab": {
          "base_uri": "https://localhost:8080/",
          "height": 901
        },
        "outputId": "f3cea8dd-a5f6-41b5-8986-8bb7d8414275"
      },
      "source": [
        "\n",
        "(x_train_vgg, y_train_vgg), (x_test_vgg, y_test_vgg) = tf.keras.datasets.fashion_mnist.load_data()\n",
        "x_train_vgg, x_test_vgg = x_train_vgg.reshape(x_train_vgg.shape[0], 28, 28, 1), x_test_vgg.reshape(x_test_vgg.shape[0], 28, 28, 1)\n",
        "\n",
        "x_train_vgg = x_train_vgg.astype('float32') / 255\n",
        "x_test_vgg = x_test_vgg.astype('float32') / 255\n",
        "y_train_vgg = to_categorical(y_train_vgg, 10)\n",
        "y_test_vgg = to_categorical(y_test_vgg, 10)\n",
        "\n",
        "x_train_vgg = np.asarray([cv2.resize(i, (32,32)) for i in x_train_vgg])\n",
        "x_test_vgg = np.asarray([cv2.resize(i, (32,32)) for i in x_test_vgg])\n",
        "\n",
        "x_train_vgg = x_train_vgg.reshape(x_train_vgg.shape[0], 32, 32, 1)\n",
        "x_test_vgg = x_test_vgg.reshape(x_test_vgg.shape[0], 32, 32, 1)\n",
        "\n",
        "x_train_vgg = np.asarray([np.squeeze(np.stack((i, )*3, axis=-1)) for i in x_train_vgg])\n",
        "x_test_vgg = np.asarray([np.squeeze(np.stack((i, )*3, axis=-1)) for i in x_test_vgg])\n",
        "\n",
        "vgg16_base = VGG16(weights='imagenet', include_top=False, input_shape=(32, 32, 3))\n",
        "\n",
        "flatten_1 = tfkl.Flatten()(vgg16_base.output)\n",
        "dense_1 = tfkl.Dense(1024, activation='relu')(flatten_1)\n",
        "outputs = tfkl.Dense(10, activation='sigmoid')(dense_1)\n",
        "\n",
        "for layer in vgg16_base.layers:\n",
        "    layer.trainable = False\n",
        "\n",
        "vgg16_model = tf.keras.Model(vgg16_base.input, outputs)\n",
        "\n",
        "vgg16_model.summary()"
      ],
      "execution_count": 50,
      "outputs": [
        {
          "output_type": "stream",
          "text": [
            "Model: \"model_4\"\n",
            "_________________________________________________________________\n",
            "Layer (type)                 Output Shape              Param #   \n",
            "=================================================================\n",
            "input_15 (InputLayer)        [(None, 32, 32, 3)]       0         \n",
            "_________________________________________________________________\n",
            "block1_conv1 (Conv2D)        (None, 32, 32, 64)        1792      \n",
            "_________________________________________________________________\n",
            "block1_conv2 (Conv2D)        (None, 32, 32, 64)        36928     \n",
            "_________________________________________________________________\n",
            "block1_pool (MaxPooling2D)   (None, 16, 16, 64)        0         \n",
            "_________________________________________________________________\n",
            "block2_conv1 (Conv2D)        (None, 16, 16, 128)       73856     \n",
            "_________________________________________________________________\n",
            "block2_conv2 (Conv2D)        (None, 16, 16, 128)       147584    \n",
            "_________________________________________________________________\n",
            "block2_pool (MaxPooling2D)   (None, 8, 8, 128)         0         \n",
            "_________________________________________________________________\n",
            "block3_conv1 (Conv2D)        (None, 8, 8, 256)         295168    \n",
            "_________________________________________________________________\n",
            "block3_conv2 (Conv2D)        (None, 8, 8, 256)         590080    \n",
            "_________________________________________________________________\n",
            "block3_conv3 (Conv2D)        (None, 8, 8, 256)         590080    \n",
            "_________________________________________________________________\n",
            "block3_pool (MaxPooling2D)   (None, 4, 4, 256)         0         \n",
            "_________________________________________________________________\n",
            "block4_conv1 (Conv2D)        (None, 4, 4, 512)         1180160   \n",
            "_________________________________________________________________\n",
            "block4_conv2 (Conv2D)        (None, 4, 4, 512)         2359808   \n",
            "_________________________________________________________________\n",
            "block4_conv3 (Conv2D)        (None, 4, 4, 512)         2359808   \n",
            "_________________________________________________________________\n",
            "block4_pool (MaxPooling2D)   (None, 2, 2, 512)         0         \n",
            "_________________________________________________________________\n",
            "block5_conv1 (Conv2D)        (None, 2, 2, 512)         2359808   \n",
            "_________________________________________________________________\n",
            "block5_conv2 (Conv2D)        (None, 2, 2, 512)         2359808   \n",
            "_________________________________________________________________\n",
            "block5_conv3 (Conv2D)        (None, 2, 2, 512)         2359808   \n",
            "_________________________________________________________________\n",
            "block5_pool (MaxPooling2D)   (None, 1, 1, 512)         0         \n",
            "_________________________________________________________________\n",
            "flatten_12 (Flatten)         (None, 512)               0         \n",
            "_________________________________________________________________\n",
            "dense_10 (Dense)             (None, 1024)              525312    \n",
            "_________________________________________________________________\n",
            "dense_11 (Dense)             (None, 10)                10250     \n",
            "=================================================================\n",
            "Total params: 15,250,250\n",
            "Trainable params: 535,562\n",
            "Non-trainable params: 14,714,688\n",
            "_________________________________________________________________\n"
          ],
          "name": "stdout"
        }
      ]
    },
    {
      "cell_type": "code",
      "metadata": {
        "id": "AKN8ahxDzuEF",
        "colab_type": "code",
        "colab": {}
      },
      "source": [
        "opt = tf.keras.optimizers.Adam(learning_rate=0.001)\n",
        "\n",
        "vgg16_model.compile(optimizer=opt, loss='categorical_crossentropy', metrics=['accuracy'])"
      ],
      "execution_count": 0,
      "outputs": []
    },
    {
      "cell_type": "code",
      "metadata": {
        "id": "mXAa93eKr8ys",
        "colab_type": "code",
        "colab": {
          "base_uri": "https://localhost:8080/",
          "height": 85
        },
        "outputId": "4b225974-920a-4089-b423-448acaabfb3e"
      },
      "source": [
        "print(x_train_vgg.shape)\n",
        "print(x_test_vgg.shape)\n",
        "print(y_train_vgg.shape)\n",
        "print(y_test_vgg.shape)"
      ],
      "execution_count": 52,
      "outputs": [
        {
          "output_type": "stream",
          "text": [
            "(60000, 32, 32, 3)\n",
            "(10000, 32, 32, 3)\n",
            "(60000, 10)\n",
            "(10000, 10)\n"
          ],
          "name": "stdout"
        }
      ]
    },
    {
      "cell_type": "code",
      "metadata": {
        "id": "XUJ0BD_QzwH_",
        "colab_type": "code",
        "colab": {
          "base_uri": "https://localhost:8080/",
          "height": 204
        },
        "outputId": "37469466-f35d-45f0-d71c-9a417a859cf7"
      },
      "source": [
        "history_vgg16 = vgg16_model.fit(x_train_vgg, y_train_vgg, validation_data=(x_test_vgg, y_test_vgg), batch_size=128, epochs=5)"
      ],
      "execution_count": 53,
      "outputs": [
        {
          "output_type": "stream",
          "text": [
            "Train on 60000 samples, validate on 10000 samples\n",
            "Epoch 1/5\n",
            "60000/60000 [==============================] - 718s 12ms/sample - loss: 0.5428 - acc: 0.8088 - val_loss: 0.4568 - val_acc: 0.8330\n",
            "Epoch 2/5\n",
            "60000/60000 [==============================] - 717s 12ms/sample - loss: 0.4036 - acc: 0.8519 - val_loss: 0.4156 - val_acc: 0.8515\n",
            "Epoch 3/5\n",
            "60000/60000 [==============================] - 715s 12ms/sample - loss: 0.3731 - acc: 0.8619 - val_loss: 0.3990 - val_acc: 0.8549\n",
            "Epoch 4/5\n",
            "60000/60000 [==============================] - 716s 12ms/sample - loss: 0.3451 - acc: 0.8734 - val_loss: 0.3818 - val_acc: 0.8623\n",
            "Epoch 5/5\n",
            "60000/60000 [==============================] - 716s 12ms/sample - loss: 0.3286 - acc: 0.8777 - val_loss: 0.3835 - val_acc: 0.8618\n"
          ],
          "name": "stdout"
        }
      ]
    },
    {
      "cell_type": "code",
      "metadata": {
        "id": "5gF9g2Xq7_XX",
        "colab_type": "code",
        "colab": {
          "base_uri": "https://localhost:8080/",
          "height": 295
        },
        "outputId": "74d85677-6719-41a9-fac6-ba1eca74711e"
      },
      "source": [
        "plt.plot(history_vgg16.history['acc'])\n",
        "plt.plot(history_vgg16.history['val_acc'])\n",
        "plt.title('Model accuracy')\n",
        "plt.ylabel('Accuracy')\n",
        "plt.xlabel('Epoch')\n",
        "plt.legend(['Train', 'Test'], loc='upper left')\n",
        "plt.show()"
      ],
      "execution_count": 54,
      "outputs": [
        {
          "output_type": "display_data",
          "data": {
            "image/png": "[encoded data removed]",
            "text/plain": [
              "<Figure size 432x288 with 1 Axes>"
            ]
          },
          "metadata": {
            "tags": []
          }
        }
      ]
    },
    {
      "cell_type": "markdown",
      "metadata": {
        "id": "CSuwW-pN8NEn",
        "colab_type": "text"
      },
      "source": [
        "With transfer learning, we obtain an accuracy of 87.77% (train) / 86.18% (test)."
      ]
    },
    {
      "cell_type": "markdown",
      "metadata": {
        "id": "ycGaprMgg7CJ",
        "colab_type": "text"
      },
      "source": [
        "#### **Problem 3 (Text Classification).**\n",
        "\n",
        "Building off of the idea that CNNs take advantage of local spatial correlations, we will take advantage of local temporal relations in natural language text."
      ]
    },
    {
      "cell_type": "markdown",
      "metadata": {
        "id": "tHx2zaodg8xD",
        "colab_type": "text"
      },
      "source": [
        "**3.1 (RNN).** We build a RNN for text classification."
      ]
    },
    {
      "cell_type": "code",
      "metadata": {
        "id": "9ZiG5pbwhNew",
        "colab_type": "code",
        "outputId": "d3b25e65-ba43-4b9b-a0aa-745d7a372159",
        "colab": {
          "base_uri": "https://localhost:8080/",
          "height": 122
        }
      },
      "source": [
        "from google.colab import drive\n",
        "drive.mount('/content/drive')"
      ],
      "execution_count": 4,
      "outputs": [
        {
          "output_type": "stream",
          "text": [
            "Go to this URL in a browser: https://accounts.google.com/o/oauth2/auth?client_id=947318989803-6bn6qk8qdgf4n4g3pfee6491hc0brc4i.apps.googleusercontent.com&redirect_uri=urn%3aietf%3awg%3aoauth%3a2.0%3aoob&response_type=code&scope=email%20https%3a%2f%2fwww.googleapis.com%2fauth%2fdocs.test%20https%3a%2f%2fwww.googleapis.com%2fauth%2fdrive%20https%3a%2f%2fwww.googleapis.com%2fauth%2fdrive.photos.readonly%20https%3a%2f%2fwww.googleapis.com%2fauth%2fpeopleapi.readonly\n",
            "\n",
            "Enter your authorization code:\n",
            "··········\n",
            "Mounted at /content/drive\n"
          ],
          "name": "stdout"
        }
      ]
    },
    {
      "cell_type": "code",
      "metadata": {
        "id": "NwiZbaD93XcH",
        "colab_type": "code",
        "outputId": "8dc2c24f-ecb2-415c-f797-aabe787150da",
        "colab": {
          "base_uri": "https://localhost:8080/",
          "height": 51
        }
      },
      "source": [
        "!pwd\n",
        "!ls '/content/drive/My Drive/data'"
      ],
      "execution_count": 5,
      "outputs": [
        {
          "output_type": "stream",
          "text": [
            "/content\n",
            "column_labels.rtf  tweets_with_labels.csv\n"
          ],
          "name": "stdout"
        }
      ]
    },
    {
      "cell_type": "code",
      "metadata": {
        "id": "1_9MF9a-305B",
        "colab_type": "code",
        "outputId": "3810f051-5437-4eb7-b2ef-1011e9d2bcc1",
        "colab": {
          "base_uri": "https://localhost:8080/",
          "height": 204
        }
      },
      "source": [
        "LABELS = {'k1': 'clouds', 'k2': 'cold', 'k3': 'dry',\n",
        "          'k4': 'hot', 'k5': 'humid', 'k6': 'hurricane',\n",
        "          'k7': \"I can't tell\", 'k8': 'ice', 'k9': 'other',\n",
        "          'k10': 'rain', 'k11': 'snow', 'k12': 'storms',\n",
        "          'k13': 'sun', 'k14': 'tornado', 'k15': 'wind'}\n",
        "\n",
        "tweets_with_labels = pd.read_csv('/content/drive/My Drive/data/tweets_with_labels.csv', sep='\\t')\n",
        "\n",
        "tweets_with_labels.head()"
      ],
      "execution_count": 6,
      "outputs": [
        {
          "output_type": "execute_result",
          "data": {
            "text/html": [
              "<div>\n",
              "<style scoped>\n",
              "    .dataframe tbody tr th:only-of-type {\n",
              "        vertical-align: middle;\n",
              "    }\n",
              "\n",
              "    .dataframe tbody tr th {\n",
              "        vertical-align: top;\n",
              "    }\n",
              "\n",
              "    .dataframe thead th {\n",
              "        text-align: right;\n",
              "    }\n",
              "</style>\n",
              "<table border=\"1\" class=\"dataframe\">\n",
              "  <thead>\n",
              "    <tr style=\"text-align: right;\">\n",
              "      <th></th>\n",
              "      <th>id</th>\n",
              "      <th>tweet</th>\n",
              "      <th>k1</th>\n",
              "      <th>k2</th>\n",
              "      <th>k3</th>\n",
              "      <th>k4</th>\n",
              "      <th>k5</th>\n",
              "      <th>k6</th>\n",
              "      <th>k7</th>\n",
              "      <th>k8</th>\n",
              "      <th>k9</th>\n",
              "      <th>k10</th>\n",
              "      <th>k11</th>\n",
              "      <th>k12</th>\n",
              "      <th>k13</th>\n",
              "      <th>k14</th>\n",
              "      <th>k15</th>\n",
              "    </tr>\n",
              "  </thead>\n",
              "  <tbody>\n",
              "    <tr>\n",
              "      <th>0</th>\n",
              "      <td>1</td>\n",
              "      <td>Jazz for a Rainy Afternoon:  {link}</td>\n",
              "      <td>0.0</td>\n",
              "      <td>0.0</td>\n",
              "      <td>0.0</td>\n",
              "      <td>0.0</td>\n",
              "      <td>0.0</td>\n",
              "      <td>0.0</td>\n",
              "      <td>0.000</td>\n",
              "      <td>0.0</td>\n",
              "      <td>0.000</td>\n",
              "      <td>1.0</td>\n",
              "      <td>0.0</td>\n",
              "      <td>0.0</td>\n",
              "      <td>0.000</td>\n",
              "      <td>0.0</td>\n",
              "      <td>0.0</td>\n",
              "    </tr>\n",
              "    <tr>\n",
              "      <th>1</th>\n",
              "      <td>2</td>\n",
              "      <td>RT: @mention: I love rainy days.</td>\n",
              "      <td>0.0</td>\n",
              "      <td>0.0</td>\n",
              "      <td>0.0</td>\n",
              "      <td>0.0</td>\n",
              "      <td>0.0</td>\n",
              "      <td>0.0</td>\n",
              "      <td>0.000</td>\n",
              "      <td>0.0</td>\n",
              "      <td>0.000</td>\n",
              "      <td>1.0</td>\n",
              "      <td>0.0</td>\n",
              "      <td>0.0</td>\n",
              "      <td>0.000</td>\n",
              "      <td>0.0</td>\n",
              "      <td>0.0</td>\n",
              "    </tr>\n",
              "    <tr>\n",
              "      <th>2</th>\n",
              "      <td>3</td>\n",
              "      <td>Good Morning Chicago! Time to kick the Windy C...</td>\n",
              "      <td>0.0</td>\n",
              "      <td>0.0</td>\n",
              "      <td>0.0</td>\n",
              "      <td>0.0</td>\n",
              "      <td>0.0</td>\n",
              "      <td>0.0</td>\n",
              "      <td>1.000</td>\n",
              "      <td>0.0</td>\n",
              "      <td>0.000</td>\n",
              "      <td>0.0</td>\n",
              "      <td>0.0</td>\n",
              "      <td>0.0</td>\n",
              "      <td>0.000</td>\n",
              "      <td>0.0</td>\n",
              "      <td>0.0</td>\n",
              "    </tr>\n",
              "    <tr>\n",
              "      <th>3</th>\n",
              "      <td>6</td>\n",
              "      <td>Preach lol! :) RT @mention: #alliwantis this t...</td>\n",
              "      <td>0.0</td>\n",
              "      <td>0.0</td>\n",
              "      <td>0.0</td>\n",
              "      <td>0.0</td>\n",
              "      <td>0.0</td>\n",
              "      <td>0.0</td>\n",
              "      <td>0.604</td>\n",
              "      <td>0.0</td>\n",
              "      <td>0.196</td>\n",
              "      <td>0.0</td>\n",
              "      <td>0.0</td>\n",
              "      <td>0.0</td>\n",
              "      <td>0.201</td>\n",
              "      <td>0.0</td>\n",
              "      <td>0.0</td>\n",
              "    </tr>\n",
              "    <tr>\n",
              "      <th>4</th>\n",
              "      <td>9</td>\n",
              "      <td>@mention good morning sunshine</td>\n",
              "      <td>0.0</td>\n",
              "      <td>0.0</td>\n",
              "      <td>0.0</td>\n",
              "      <td>0.0</td>\n",
              "      <td>0.0</td>\n",
              "      <td>0.0</td>\n",
              "      <td>0.000</td>\n",
              "      <td>0.0</td>\n",
              "      <td>0.000</td>\n",
              "      <td>0.0</td>\n",
              "      <td>0.0</td>\n",
              "      <td>0.0</td>\n",
              "      <td>1.000</td>\n",
              "      <td>0.0</td>\n",
              "      <td>0.0</td>\n",
              "    </tr>\n",
              "  </tbody>\n",
              "</table>\n",
              "</div>"
            ],
            "text/plain": [
              "   id                                              tweet   k1  ...    k13  k14  k15\n",
              "0   1                Jazz for a Rainy Afternoon:  {link}  0.0  ...  0.000  0.0  0.0\n",
              "1   2                   RT: @mention: I love rainy days.  0.0  ...  0.000  0.0  0.0\n",
              "2   3  Good Morning Chicago! Time to kick the Windy C...  0.0  ...  0.000  0.0  0.0\n",
              "3   6  Preach lol! :) RT @mention: #alliwantis this t...  0.0  ...  0.201  0.0  0.0\n",
              "4   9                     @mention good morning sunshine  0.0  ...  1.000  0.0  0.0\n",
              "\n",
              "[5 rows x 17 columns]"
            ]
          },
          "metadata": {
            "tags": []
          },
          "execution_count": 6
        }
      ]
    },
    {
      "cell_type": "code",
      "metadata": {
        "id": "lltfSzWa8eW2",
        "colab_type": "code",
        "colab": {}
      },
      "source": [
        "x, y = tweets_with_labels['tweet'], tweets_with_labels.drop(['tweet', 'id'], axis=1).values"
      ],
      "execution_count": 0,
      "outputs": []
    },
    {
      "cell_type": "code",
      "metadata": {
        "id": "XXAlE9FJ8_ws",
        "colab_type": "code",
        "outputId": "424a917d-868c-483e-f195-68e5bcd3a612",
        "colab": {
          "base_uri": "https://localhost:8080/",
          "height": 34
        }
      },
      "source": [
        "x[0]"
      ],
      "execution_count": 8,
      "outputs": [
        {
          "output_type": "execute_result",
          "data": {
            "text/plain": [
              "'Jazz for a Rainy Afternoon:  {link}'"
            ]
          },
          "metadata": {
            "tags": []
          },
          "execution_count": 8
        }
      ]
    },
    {
      "cell_type": "code",
      "metadata": {
        "id": "J-zaRqM28fHJ",
        "colab_type": "code",
        "colab": {
          "base_uri": "https://localhost:8080/",
          "height": 34
        },
        "outputId": "6d0c46c0-bc84-460b-a2ca-c873185fa7fb"
      },
      "source": [
        "y[0]"
      ],
      "execution_count": 9,
      "outputs": [
        {
          "output_type": "execute_result",
          "data": {
            "text/plain": [
              "array([0., 0., 0., 0., 0., 0., 0., 0., 0., 1., 0., 0., 0., 0., 0.])"
            ]
          },
          "metadata": {
            "tags": []
          },
          "execution_count": 9
        }
      ]
    },
    {
      "cell_type": "code",
      "metadata": {
        "id": "lNTpI4CnNqJB",
        "colab_type": "code",
        "colab": {}
      },
      "source": [
        "df_labels = tweets_with_labels[['k1', 'k2', 'k3', 'k4', 'k5', 'k6', 'k7', 'k8', 'k9','k10', 'k11', 'k12', 'k13', 'k14', 'k15']]"
      ],
      "execution_count": 0,
      "outputs": []
    },
    {
      "cell_type": "code",
      "metadata": {
        "id": "7Et9Rkm5-jgK",
        "colab_type": "code",
        "colab": {}
      },
      "source": [
        "def preprocessing(s):\n",
        "  '''Retain alphabetic characters'''\n",
        "    cleaned = re.sub('[^a-zA-Z]', ' ', s)\n",
        "    cleaned = re.sub(r\"\\s+[a-zA-Z]\\s+\", ' ', cleaned)\n",
        "    cleaned = re.sub(r'\\s+', ' ', cleaned)\n",
        "    return cleaned"
      ],
      "execution_count": 0,
      "outputs": []
    },
    {
      "cell_type": "code",
      "metadata": {
        "id": "j1m3lm37NCcE",
        "colab_type": "code",
        "colab": {}
      },
      "source": [
        "x = [preprocessing(s) for s in list(tweets_with_labels[\"tweet\"])]\n",
        "y = df_labels.values"
      ],
      "execution_count": 0,
      "outputs": []
    },
    {
      "cell_type": "code",
      "metadata": {
        "id": "795gYMyx_KM4",
        "colab_type": "code",
        "colab": {}
      },
      "source": [
        "x_train_tweet, x_test_tweet, y_train_tweet, y_test_tweet = train_test_split(x, y, test_size=0.1)"
      ],
      "execution_count": 0,
      "outputs": []
    },
    {
      "cell_type": "code",
      "metadata": {
        "id": "O33O0k38-Sp5",
        "colab_type": "code",
        "colab": {}
      },
      "source": [
        "tokens = Tokenizer(num_words=1000)\n",
        "\n",
        "tokens.fit_on_texts(x_train_tweet)\n",
        "tokens.texts_to_sequences(x_train_tweet)\n",
        "\n",
        "x_train_tweet = tokens.texts_to_sequences(x_train_tweet)\n",
        "x_test_tweet = tokens.texts_to_sequences(x_test_tweet)\n",
        "\n",
        "vocab_size = len(tokens.word_index) + 1\n",
        "max_features = 5000\n",
        "\n",
        "max_seq_len = 64\n",
        "\n",
        "x_train_tweet = pad_sequences(x_train_tweet, padding='post', maxlen=max_seq_len)\n",
        "x_test_tweet = pad_sequences(x_test_tweet, padding='post', maxlen=max_seq_len)"
      ],
      "execution_count": 0,
      "outputs": []
    },
    {
      "cell_type": "code",
      "metadata": {
        "id": "tIrzXysEJM4-",
        "colab_type": "code",
        "colab": {
          "base_uri": "https://localhost:8080/",
          "height": 51
        },
        "outputId": "c3a05026-dc39-4789-ba2c-9fba2911124b"
      },
      "source": [
        "print(x_train_tweet.shape, y_train_tweet.shape)\n",
        "print(x_test_tweet.shape, y_test_tweet.shape)"
      ],
      "execution_count": 22,
      "outputs": [
        {
          "output_type": "stream",
          "text": [
            "(70151, 64) (70151, 15)\n",
            "(7795, 64) (7795, 15)\n"
          ],
          "name": "stdout"
        }
      ]
    },
    {
      "cell_type": "code",
      "metadata": {
        "id": "6dIJBAUsAEGA",
        "colab_type": "code",
        "colab": {
          "base_uri": "https://localhost:8080/",
          "height": 289
        },
        "outputId": "022608a2-cab5-4eb9-c214-9625d57d5b31"
      },
      "source": [
        "inputs = tfkl.Input(shape=(64,))\n",
        "embedding_1 = tfkl.Embedding(5000, 64)(inputs)\n",
        "lstm_1 = tfkl.LSTM(64)(embedding_1)\n",
        "outputs = tfkl.Dense(15, activation='sigmoid')(lstm_1)\n",
        "\n",
        "lstm_model = tf.keras.Model(inputs=inputs, outputs=outputs)\n",
        "lstm_model.summary()"
      ],
      "execution_count": 27,
      "outputs": [
        {
          "output_type": "stream",
          "text": [
            "Model: \"model_1\"\n",
            "_________________________________________________________________\n",
            "Layer (type)                 Output Shape              Param #   \n",
            "=================================================================\n",
            "input_2 (InputLayer)         [(None, 64)]              0         \n",
            "_________________________________________________________________\n",
            "embedding_1 (Embedding)      (None, 64, 64)            320000    \n",
            "_________________________________________________________________\n",
            "lstm_1 (LSTM)                (None, 64)                33024     \n",
            "_________________________________________________________________\n",
            "dense_1 (Dense)              (None, 15)                975       \n",
            "=================================================================\n",
            "Total params: 353,999\n",
            "Trainable params: 353,999\n",
            "Non-trainable params: 0\n",
            "_________________________________________________________________\n"
          ],
          "name": "stdout"
        }
      ]
    },
    {
      "cell_type": "code",
      "metadata": {
        "id": "OVsNdUjdAj7L",
        "colab_type": "code",
        "colab": {}
      },
      "source": [
        "lstm_model.compile(optimizer='rmsprop', loss='categorical_crossentropy', metrics=['accuracy'])"
      ],
      "execution_count": 0,
      "outputs": []
    },
    {
      "cell_type": "code",
      "metadata": {
        "id": "cOlSt7_38-8L",
        "colab_type": "code",
        "outputId": "d29b278f-0e66-42d5-e38a-49a4bee440f5",
        "colab": {
          "base_uri": "https://localhost:8080/",
          "height": 374
        }
      },
      "source": [
        "lstm_history = lstm_model.fit(x_train_tweet, y_train_tweet, epochs=10, batch_size=256, \n",
        "                              validation_data=(x_test_tweet, y_test_tweet))"
      ],
      "execution_count": 30,
      "outputs": [
        {
          "output_type": "stream",
          "text": [
            "Train on 70151 samples, validate on 7795 samples\n",
            "Epoch 1/10\n",
            "70151/70151 [==============================] - 53s 755us/sample - loss: 1.3854 - acc: 0.7816 - val_loss: 1.4849 - val_acc: 0.7624\n",
            "Epoch 2/10\n",
            "70151/70151 [==============================] - 53s 749us/sample - loss: 1.3494 - acc: 0.7857 - val_loss: 1.5008 - val_acc: 0.7688\n",
            "Epoch 3/10\n",
            "70151/70151 [==============================] - 53s 750us/sample - loss: 1.3196 - acc: 0.7895 - val_loss: 1.3445 - val_acc: 0.7854\n",
            "Epoch 4/10\n",
            "70151/70151 [==============================] - 52s 742us/sample - loss: 1.2973 - acc: 0.7918 - val_loss: 1.3805 - val_acc: 0.7736\n",
            "Epoch 5/10\n",
            "70151/70151 [==============================] - 53s 754us/sample - loss: 1.2769 - acc: 0.7946 - val_loss: 1.8469 - val_acc: 0.6301\n",
            "Epoch 6/10\n",
            "70151/70151 [==============================] - 53s 750us/sample - loss: 1.2625 - acc: 0.7981 - val_loss: 1.3609 - val_acc: 0.7711\n",
            "Epoch 7/10\n",
            "70151/70151 [==============================] - 53s 761us/sample - loss: 1.2455 - acc: 0.8027 - val_loss: 1.5138 - val_acc: 0.7388\n",
            "Epoch 8/10\n",
            "70151/70151 [==============================] - 54s 766us/sample - loss: 1.2319 - acc: 0.8046 - val_loss: 1.2617 - val_acc: 0.7944\n",
            "Epoch 9/10\n",
            "70151/70151 [==============================] - 53s 753us/sample - loss: 1.2178 - acc: 0.8076 - val_loss: 1.3095 - val_acc: 0.7793\n",
            "Epoch 10/10\n",
            "70151/70151 [==============================] - 53s 757us/sample - loss: 1.2057 - acc: 0.8088 - val_loss: 1.2953 - val_acc: 0.7920\n"
          ],
          "name": "stdout"
        }
      ]
    },
    {
      "cell_type": "code",
      "metadata": {
        "id": "S5sf-x3oBEdU",
        "colab_type": "code",
        "colab": {
          "base_uri": "https://localhost:8080/",
          "height": 295
        },
        "outputId": "a5f08fe8-1dbb-4375-b876-b825c6aadcf6"
      },
      "source": [
        "plt.plot(lstm_history.history['acc'])\n",
        "plt.plot(lstm_history.history['val_acc'])\n",
        "plt.title('Model accuracy')\n",
        "plt.ylabel('Accuracy')\n",
        "plt.xlabel('Epoch')\n",
        "plt.legend(['Train', 'Test'], loc='upper left')\n",
        "plt.show()"
      ],
      "execution_count": 31,
      "outputs": [
        {
          "output_type": "display_data",
          "data": {
            "image/png": "[encoded data removed]",
            "text/plain": [
              "<Figure size 432x288 with 1 Axes>"
            ]
          },
          "metadata": {
            "tags": []
          }
        }
      ]
    },
    {
      "cell_type": "markdown",
      "metadata": {
        "id": "CHy5LnlXhOW3",
        "colab_type": "text"
      },
      "source": [
        "**3.2 (CNN).** We build a 1D CNN for text classification. We use a character-level convolution, using character embeddings."
      ]
    },
    {
      "cell_type": "code",
      "metadata": {
        "id": "ApX5j-Jp11xO",
        "colab_type": "code",
        "colab": {
          "base_uri": "https://localhost:8080/",
          "height": 357
        },
        "outputId": "15a3fe9a-5793-4d3e-f184-ed568b3b041e"
      },
      "source": [
        "inputs = tfkl.Input(shape=(64,))\n",
        "\n",
        "embedding_1 = tfkl.Embedding(1000, 64)(inputs)\n",
        "conv_1 = tfkl.Conv1D(64, 3, activation='relu')(embedding_1)\n",
        "global_pool = tfkl.GlobalMaxPooling1D()(conv_1)\n",
        "dense_1 = tfkl.Dense(32, activation='relu')(global_pool)\n",
        "outputs = tfkl.Dense(15, activation='relu')(dense_1)\n",
        "\n",
        "cnn_1D = tf.keras.Model(inputs=inputs, outputs=outputs)\n",
        "\n",
        "cnn_1D.summary()"
      ],
      "execution_count": 32,
      "outputs": [
        {
          "output_type": "stream",
          "text": [
            "Model: \"model_2\"\n",
            "_________________________________________________________________\n",
            "Layer (type)                 Output Shape              Param #   \n",
            "=================================================================\n",
            "input_3 (InputLayer)         [(None, 64)]              0         \n",
            "_________________________________________________________________\n",
            "embedding_2 (Embedding)      (None, 64, 64)            64000     \n",
            "_________________________________________________________________\n",
            "conv1d (Conv1D)              (None, 62, 64)            12352     \n",
            "_________________________________________________________________\n",
            "global_max_pooling1d (Global (None, 64)                0         \n",
            "_________________________________________________________________\n",
            "dense_2 (Dense)              (None, 32)                2080      \n",
            "_________________________________________________________________\n",
            "dense_3 (Dense)              (None, 15)                495       \n",
            "=================================================================\n",
            "Total params: 78,927\n",
            "Trainable params: 78,927\n",
            "Non-trainable params: 0\n",
            "_________________________________________________________________\n"
          ],
          "name": "stdout"
        }
      ]
    },
    {
      "cell_type": "code",
      "metadata": {
        "id": "kLv0FG1Y5Rjo",
        "colab_type": "code",
        "colab": {}
      },
      "source": [
        "cnn_1D.compile(optimizer='rmsprop', loss='categorical_crossentropy', metrics=['accuracy'])"
      ],
      "execution_count": 0,
      "outputs": []
    },
    {
      "cell_type": "code",
      "metadata": {
        "id": "fz7Fejol5Ssx",
        "colab_type": "code",
        "colab": {
          "base_uri": "https://localhost:8080/",
          "height": 374
        },
        "outputId": "546f28af-49a0-40b5-a1fb-8f2fec49c8f5"
      },
      "source": [
        "cnn_1D_history = cnn_1D.fit(x_train_tweet, y_train_tweet, epochs=10, batch_size=256,\n",
        "                            validation_data=(x_test_tweet, y_test_tweet))"
      ],
      "execution_count": 34,
      "outputs": [
        {
          "output_type": "stream",
          "text": [
            "Train on 70151 samples, validate on 7795 samples\n",
            "Epoch 1/10\n",
            "70151/70151 [==============================] - 13s 187us/sample - loss: 2.7564 - acc: 0.6324 - val_loss: 2.5962 - val_acc: 0.7604\n",
            "Epoch 2/10\n",
            "70151/70151 [==============================] - 12s 174us/sample - loss: 2.3350 - acc: 0.7629 - val_loss: 2.3640 - val_acc: 0.7767\n",
            "Epoch 3/10\n",
            "70151/70151 [==============================] - 12s 170us/sample - loss: 2.2006 - acc: 0.7738 - val_loss: 2.1969 - val_acc: 0.7727\n",
            "Epoch 4/10\n",
            "70151/70151 [==============================] - 12s 174us/sample - loss: 2.1131 - acc: 0.7811 - val_loss: 2.1373 - val_acc: 0.7827\n",
            "Epoch 5/10\n",
            "70151/70151 [==============================] - 12s 171us/sample - loss: 2.0754 - acc: 0.7840 - val_loss: 2.1866 - val_acc: 0.7849\n",
            "Epoch 6/10\n",
            "70151/70151 [==============================] - 13s 179us/sample - loss: 2.0473 - acc: 0.7848 - val_loss: 2.1207 - val_acc: 0.7810\n",
            "Epoch 7/10\n",
            "70151/70151 [==============================] - 12s 173us/sample - loss: 2.0307 - acc: 0.7871 - val_loss: 2.1266 - val_acc: 0.7859\n",
            "Epoch 8/10\n",
            "70151/70151 [==============================] - 12s 171us/sample - loss: 2.0156 - acc: 0.7872 - val_loss: 2.0971 - val_acc: 0.7955\n",
            "Epoch 9/10\n",
            "70151/70151 [==============================] - 12s 175us/sample - loss: 2.0082 - acc: 0.7870 - val_loss: 2.1756 - val_acc: 0.7838\n",
            "Epoch 10/10\n",
            "70151/70151 [==============================] - 12s 173us/sample - loss: 1.9871 - acc: 0.7880 - val_loss: 2.0513 - val_acc: 0.7836\n"
          ],
          "name": "stdout"
        }
      ]
    },
    {
      "cell_type": "code",
      "metadata": {
        "id": "qcFyZiXpQOqy",
        "colab_type": "code",
        "colab": {
          "base_uri": "https://localhost:8080/",
          "height": 295
        },
        "outputId": "963b7be9-f928-4d16-a7a2-6f3cbd4025f1"
      },
      "source": [
        "plt.plot(cnn_1D_history.history['acc'])\n",
        "plt.plot(cnn_1D_history.history['val_acc'])\n",
        "plt.title('Model accuracy')\n",
        "plt.ylabel('Accuracy')\n",
        "plt.xlabel('Epoch')\n",
        "plt.legend(['Train', 'Test'], loc='upper left')\n",
        "plt.show()"
      ],
      "execution_count": 35,
      "outputs": [
        {
          "output_type": "display_data",
          "data": {
            "image/png": "[encoded data removed]",
            "text/plain": [
              "<Figure size 432x288 with 1 Axes>"
            ]
          },
          "metadata": {
            "tags": []
          }
        }
      ]
    },
    {
      "cell_type": "markdown",
      "metadata": {
        "id": "at-KNJfLhbTO",
        "colab_type": "text"
      },
      "source": [
        "**3.3 (Comparison).** We compare the RNN and CNN approaches."
      ]
    },
    {
      "cell_type": "code",
      "metadata": {
        "id": "V1Lug8PphevT",
        "colab_type": "code",
        "colab": {
          "base_uri": "https://localhost:8080/",
          "height": 350
        },
        "outputId": "b914d446-8aa4-40a0-9299-466aa44fed5a"
      },
      "source": [
        "plt.figure(figsize=(10,5))\n",
        "plt.subplot(1, 2, 1)\n",
        "plt.plot(lstm_history.history['acc'])\n",
        "plt.plot(lstm_history.history['val_acc'])\n",
        "plt.title('CNN Model Accuracy')\n",
        "plt.ylabel('Accuracy')\n",
        "plt.xlabel('Epochs')\n",
        "plt.legend(['train', 'validation'])\n",
        "\n",
        "plt.subplot(1, 2, 2)\n",
        "plt.plot(cnn_1D_history.history['acc'])\n",
        "plt.plot(cnn_1D_history.history['val_acc'])\n",
        "plt.title('RNN Model Accuracy')\n",
        "plt.ylabel('Accuracy')\n",
        "plt.xlabel('Epochs')\n",
        "plt.legend(['train', 'validation'])\n",
        "plt.show()"
      ],
      "execution_count": 42,
      "outputs": [
        {
          "output_type": "display_data",
          "data": {
            "image/png": "[encoded data removed]",
            "text/plain": [
              "<Figure size 720x360 with 2 Axes>"
            ]
          },
          "metadata": {
            "tags": []
          }
        }
      ]
    },
    {
      "cell_type": "markdown",
      "metadata": {
        "id": "_5ZZvm62RQjS",
        "colab_type": "text"
      },
      "source": [
        "The LSTM approach obtains accuracies of 80.88% (train) / 79.20% (test). The CNN approach obtains accuracies of 78.80% (train) / 78.36% (test). The LSTM, therefore, obtains slightly better results. However, note that the LSTM had over 350,000 parameters, whereas the CNN used fewer than 80,000."
      ]
    }
  ]
}