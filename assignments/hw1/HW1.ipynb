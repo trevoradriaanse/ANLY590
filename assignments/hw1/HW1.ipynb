{
 "cells": [
  {
   "cell_type": "markdown",
   "metadata": {},
   "source": [
    "## ANLY590 Assignment 1"
   ]
  },
  {
   "cell_type": "markdown",
   "metadata": {},
   "source": [
    "**Problem 1.** We use LASSO regression to predict `Salary` from other numeric predictors in the *Hitters* dataset."
   ]
  },
  {
   "cell_type": "markdown",
   "metadata": {},
   "source": [
    "We'll begin by importing the necessary libraries and taking a brief look at the dataset."
   ]
  },
  {
   "cell_type": "code",
   "execution_count": 225,
   "metadata": {},
   "outputs": [],
   "source": [
    "import numpy as np\n",
    "import pandas as pd\n",
    "import matplotlib.pyplot as plt\n",
    "from sklearn import linear_model\n",
    "np.random.rand(12345)\n",
    "\n",
    "%matplotlib inline"
   ]
  },
  {
   "cell_type": "code",
   "execution_count": 226,
   "metadata": {},
   "outputs": [
    {
     "data": {
      "text/html": [
       "<div>\n",
       "<style scoped>\n",
       "    .dataframe tbody tr th:only-of-type {\n",
       "        vertical-align: middle;\n",
       "    }\n",
       "\n",
       "    .dataframe tbody tr th {\n",
       "        vertical-align: top;\n",
       "    }\n",
       "\n",
       "    .dataframe thead th {\n",
       "        text-align: right;\n",
       "    }\n",
       "</style>\n",
       "<table border=\"1\" class=\"dataframe\">\n",
       "  <thead>\n",
       "    <tr style=\"text-align: right;\">\n",
       "      <th></th>\n",
       "      <th>Unnamed: 0</th>\n",
       "      <th>AtBat</th>\n",
       "      <th>Hits</th>\n",
       "      <th>HmRun</th>\n",
       "      <th>Runs</th>\n",
       "      <th>RBI</th>\n",
       "      <th>Walks</th>\n",
       "      <th>Years</th>\n",
       "      <th>CAtBat</th>\n",
       "      <th>CHits</th>\n",
       "      <th>...</th>\n",
       "      <th>CRuns</th>\n",
       "      <th>CRBI</th>\n",
       "      <th>CWalks</th>\n",
       "      <th>League</th>\n",
       "      <th>Division</th>\n",
       "      <th>PutOuts</th>\n",
       "      <th>Assists</th>\n",
       "      <th>Errors</th>\n",
       "      <th>Salary</th>\n",
       "      <th>NewLeague</th>\n",
       "    </tr>\n",
       "  </thead>\n",
       "  <tbody>\n",
       "    <tr>\n",
       "      <td>0</td>\n",
       "      <td>-Andy Allanson</td>\n",
       "      <td>293</td>\n",
       "      <td>66</td>\n",
       "      <td>1</td>\n",
       "      <td>30</td>\n",
       "      <td>29</td>\n",
       "      <td>14</td>\n",
       "      <td>1</td>\n",
       "      <td>293</td>\n",
       "      <td>66</td>\n",
       "      <td>...</td>\n",
       "      <td>30</td>\n",
       "      <td>29</td>\n",
       "      <td>14</td>\n",
       "      <td>A</td>\n",
       "      <td>E</td>\n",
       "      <td>446</td>\n",
       "      <td>33</td>\n",
       "      <td>20</td>\n",
       "      <td>NaN</td>\n",
       "      <td>A</td>\n",
       "    </tr>\n",
       "    <tr>\n",
       "      <td>1</td>\n",
       "      <td>-Alan Ashby</td>\n",
       "      <td>315</td>\n",
       "      <td>81</td>\n",
       "      <td>7</td>\n",
       "      <td>24</td>\n",
       "      <td>38</td>\n",
       "      <td>39</td>\n",
       "      <td>14</td>\n",
       "      <td>3449</td>\n",
       "      <td>835</td>\n",
       "      <td>...</td>\n",
       "      <td>321</td>\n",
       "      <td>414</td>\n",
       "      <td>375</td>\n",
       "      <td>N</td>\n",
       "      <td>W</td>\n",
       "      <td>632</td>\n",
       "      <td>43</td>\n",
       "      <td>10</td>\n",
       "      <td>475.0</td>\n",
       "      <td>N</td>\n",
       "    </tr>\n",
       "    <tr>\n",
       "      <td>2</td>\n",
       "      <td>-Alvin Davis</td>\n",
       "      <td>479</td>\n",
       "      <td>130</td>\n",
       "      <td>18</td>\n",
       "      <td>66</td>\n",
       "      <td>72</td>\n",
       "      <td>76</td>\n",
       "      <td>3</td>\n",
       "      <td>1624</td>\n",
       "      <td>457</td>\n",
       "      <td>...</td>\n",
       "      <td>224</td>\n",
       "      <td>266</td>\n",
       "      <td>263</td>\n",
       "      <td>A</td>\n",
       "      <td>W</td>\n",
       "      <td>880</td>\n",
       "      <td>82</td>\n",
       "      <td>14</td>\n",
       "      <td>480.0</td>\n",
       "      <td>A</td>\n",
       "    </tr>\n",
       "    <tr>\n",
       "      <td>3</td>\n",
       "      <td>-Andre Dawson</td>\n",
       "      <td>496</td>\n",
       "      <td>141</td>\n",
       "      <td>20</td>\n",
       "      <td>65</td>\n",
       "      <td>78</td>\n",
       "      <td>37</td>\n",
       "      <td>11</td>\n",
       "      <td>5628</td>\n",
       "      <td>1575</td>\n",
       "      <td>...</td>\n",
       "      <td>828</td>\n",
       "      <td>838</td>\n",
       "      <td>354</td>\n",
       "      <td>N</td>\n",
       "      <td>E</td>\n",
       "      <td>200</td>\n",
       "      <td>11</td>\n",
       "      <td>3</td>\n",
       "      <td>500.0</td>\n",
       "      <td>N</td>\n",
       "    </tr>\n",
       "    <tr>\n",
       "      <td>4</td>\n",
       "      <td>-Andres Galarraga</td>\n",
       "      <td>321</td>\n",
       "      <td>87</td>\n",
       "      <td>10</td>\n",
       "      <td>39</td>\n",
       "      <td>42</td>\n",
       "      <td>30</td>\n",
       "      <td>2</td>\n",
       "      <td>396</td>\n",
       "      <td>101</td>\n",
       "      <td>...</td>\n",
       "      <td>48</td>\n",
       "      <td>46</td>\n",
       "      <td>33</td>\n",
       "      <td>N</td>\n",
       "      <td>E</td>\n",
       "      <td>805</td>\n",
       "      <td>40</td>\n",
       "      <td>4</td>\n",
       "      <td>91.5</td>\n",
       "      <td>N</td>\n",
       "    </tr>\n",
       "  </tbody>\n",
       "</table>\n",
       "<p>5 rows × 21 columns</p>\n",
       "</div>"
      ],
      "text/plain": [
       "          Unnamed: 0  AtBat  Hits  HmRun  Runs  RBI  Walks  Years  CAtBat  \\\n",
       "0     -Andy Allanson    293    66      1    30   29     14      1     293   \n",
       "1        -Alan Ashby    315    81      7    24   38     39     14    3449   \n",
       "2       -Alvin Davis    479   130     18    66   72     76      3    1624   \n",
       "3      -Andre Dawson    496   141     20    65   78     37     11    5628   \n",
       "4  -Andres Galarraga    321    87     10    39   42     30      2     396   \n",
       "\n",
       "   CHits  ...  CRuns  CRBI  CWalks  League Division PutOuts  Assists  Errors  \\\n",
       "0     66  ...     30    29      14       A        E     446       33      20   \n",
       "1    835  ...    321   414     375       N        W     632       43      10   \n",
       "2    457  ...    224   266     263       A        W     880       82      14   \n",
       "3   1575  ...    828   838     354       N        E     200       11       3   \n",
       "4    101  ...     48    46      33       N        E     805       40       4   \n",
       "\n",
       "   Salary  NewLeague  \n",
       "0     NaN          A  \n",
       "1   475.0          N  \n",
       "2   480.0          A  \n",
       "3   500.0          N  \n",
       "4    91.5          N  \n",
       "\n",
       "[5 rows x 21 columns]"
      ]
     },
     "execution_count": 226,
     "metadata": {},
     "output_type": "execute_result"
    }
   ],
   "source": [
    "df = pd.read_csv('Hitters.csv')\n",
    "df.head()"
   ]
  },
  {
   "cell_type": "markdown",
   "metadata": {},
   "source": [
    "Some athletes don't have salaries listed. We'll remove those athletes from our dataframe, and we'll also omit any categorical data points."
   ]
  },
  {
   "cell_type": "code",
   "execution_count": 227,
   "metadata": {},
   "outputs": [
    {
     "name": "stdout",
     "output_type": "stream",
     "text": [
      "Original dimensions: (322, 21)\n",
      "Number of athletes without salaries recorded: 59\n",
      "Modified dimensions: (263, 17)\n"
     ]
    }
   ],
   "source": [
    "print('Original dimensions:', df.shape)\n",
    "print('Number of athletes without salaries recorded:', pd.isna(df['Salary']).sum())\n",
    "df = df.dropna()\n",
    "df = df.drop(columns=['Unnamed: 0', 'League', 'Division', 'NewLeague'])\n",
    "print('Modified dimensions:', df.shape)"
   ]
  },
  {
   "cell_type": "markdown",
   "metadata": {},
   "source": [
    "Now we'll separate the predictors from the outcome variable."
   ]
  },
  {
   "cell_type": "code",
   "execution_count": 228,
   "metadata": {},
   "outputs": [
    {
     "name": "stdout",
     "output_type": "stream",
     "text": [
      "Index(['AtBat', 'Hits', 'HmRun', 'Runs', 'RBI', 'Walks', 'Years', 'CAtBat',\n",
      "       'CHits', 'CHmRun', 'CRuns', 'CRBI', 'CWalks', 'PutOuts', 'Assists',\n",
      "       'Errors'],\n",
      "      dtype='object')\n",
      "1    475.0\n",
      "2    480.0\n",
      "3    500.0\n",
      "4     91.5\n",
      "5    750.0\n",
      "Name: Salary, dtype: float64\n"
     ]
    }
   ],
   "source": [
    "X = df.drop(columns=['Salary'])\n",
    "print(X.columns)\n",
    "y = df['Salary']\n",
    "print(y.head())"
   ]
  },
  {
   "cell_type": "markdown",
   "metadata": {},
   "source": [
    "We will predict `Salary` from the other variables using LASSO and Ridge regression techniques.\n",
    "\n",
    "Recall that LASSO coefficients minimize $$\\text{RSS} + \\alpha\\sum_{j=1}^k \\left|\\beta_j\\right|,$$\n",
    "introducing an $\\ell_1$ penalty,\n",
    "\n",
    "and Ridge regression coefficients are estimated by minimizing $$\\text{RSS} + \\alpha\\sum_{j=1}^k\\beta_j^2,$$\n",
    "introducing an $\\ell_2$ penalty."
   ]
  },
  {
   "cell_type": "markdown",
   "metadata": {},
   "source": [
    "The helper function `visualize_coefficients` displays coefficient trajectories."
   ]
  },
  {
   "cell_type": "code",
   "execution_count": 237,
   "metadata": {},
   "outputs": [],
   "source": [
    "def visualize_coefficients(model):\n",
    "    \"\"\" Generates a plot of numeric coefficients vs. hyperparameter setting. \"\"\"\n",
    "    coefficients = []\n",
    "    for x in ALPHAS:\n",
    "        m = model(alpha=x)\n",
    "        m.fit(X, y)\n",
    "        coefficients.append(m.coef_)\n",
    "\n",
    "    # Display on a log-scale for ease of viewing\n",
    "    plt.plot(np.log(ALPHAS), coefficients)\n",
    "    plt.figlegend(X.columns)\n",
    "    plt.xlabel(r'$\\log(\\alpha)$')\n",
    "    plt.ylabel('Coefficients')\n",
    "    plt.title(model.__name__)\n",
    "    plt.show()"
   ]
  },
  {
   "cell_type": "markdown",
   "metadata": {},
   "source": [
    "We'll also suppress warnings for the sake of clean output."
   ]
  },
  {
   "cell_type": "code",
   "execution_count": 238,
   "metadata": {},
   "outputs": [],
   "source": [
    "import warnings\n",
    "warnings.filterwarnings('ignore')"
   ]
  },
  {
   "cell_type": "markdown",
   "metadata": {},
   "source": [
    "We use LASSO to predict `Salary` as a function of the numeric predictors in the dataset."
   ]
  },
  {
   "cell_type": "code",
   "execution_count": 262,
   "metadata": {},
   "outputs": [
    {
     "name": "stdout",
     "output_type": "stream",
     "text": [
      "LASSO regression\n",
      "The number of predictors remaining after using cross-validation to find the optimal regularization penalty with LASSO regression is 12.\n",
      "The optimal value of the regularization penalty is 0.23925480327338278.\n",
      "Accuracy with LASSO is 0.5084512570922232.\n",
      "\n"
     ]
    },
    {
     "data": {
      "image/png": "[encoded data removed]",
      "text/plain": [
       "<Figure size 432x288 with 1 Axes>"
      ]
     },
     "metadata": {
      "needs_background": "light"
     },
     "output_type": "display_data"
    },
    {
     "name": "stdout",
     "output_type": "stream",
     "text": [
      "The number of predictors remaining in this LASSO regression model is 3:\n",
      "[(1, 0.32947458556868287), (10, 0.07632196852894105), (11, 0.20447491636853862)]\n",
      "The final 3 predictors in the model are, Hits, CRuns, CRBI.\n"
     ]
    }
   ],
   "source": [
    "# Predictors are standardized to be all on the same scale\n",
    "lasso = linear_model.LassoCV(alphas=None, normalize=True)\n",
    "lasso.fit(X, y)\n",
    "print('LASSO regression')\n",
    "print('The number of predictors remaining after using cross-validation'\n",
    "      ' to find the optimal regularization penalty with LASSO regression is', \n",
    "      len([x for x in lasso.coef_ if x != 0]), end='.\\n')\n",
    "print('The optimal value of the regularization penalty is', lasso.alpha_, end='.\\n')\n",
    "print('Accuracy with LASSO is', lasso.score(X, y), end='.\\n\\n')\n",
    "\n",
    "visualize_coefficients(linear_model.Lasso)\n",
    "\n",
    "# Setting alphas=[10], there are just three predictors remaining in the model:\n",
    "lasso_3_predictors = linear_model.LassoCV(alphas=[10], normalize=True)\n",
    "lasso_3_predictors.fit(X, y)\n",
    "print('The number of predictors remaining in this LASSO regression model is',\n",
    "      len([x for x in lasso_3_predictors.coef_ if x != 0]), end=':\\n')\n",
    "print([(i, coef) for (i, coef) in enumerate(lasso_3_predictors.coef_) if coef != 0])\n",
    "print('The final 3 predictors in the model are',\n",
    "      X.columns[1], X.columns[10], X.columns[11], sep=', ', end='.\\n')"
   ]
  },
  {
   "cell_type": "code",
   "execution_count": 265,
   "metadata": {},
   "outputs": [
    {
     "name": "stdout",
     "output_type": "stream",
     "text": [
      "Ridge regression\n",
      "The optimal value of the regularization penalty from the list above is 0.01.\n",
      "Accuracy with Ridge regression is 0.5199503016551482\n"
     ]
    },
    {
     "data": {
      "image/png": "[encoded data removed]",
      "text/plain": [
       "<Figure size 432x288 with 1 Axes>"
      ]
     },
     "metadata": {
      "needs_background": "light"
     },
     "output_type": "display_data"
    }
   ],
   "source": [
    "ALPHAS = [1e-5, 5e-5, 1e-3, 1e-2, 1, 3, 5, 10, 20, 50, 100, 1000, 5000, 10000, 100000]\n",
    "\n",
    "# Predictors are standardized to be all on the same scale\n",
    "ridge = linear_model.RidgeCV(alphas=ALPHAS, normalize=True)\n",
    "ridge.fit(X, y)\n",
    "print('Ridge regression')\n",
    "print('The optimal value of the regularization penalty from the list above is', ridge.alpha_, end='.\\n')\n",
    "print('Accuracy with Ridge regression is', ridge.score(X, y))\n",
    "\n",
    "visualize_coefficients(linear_model.Ridge)\n"
   ]
  },
  {
   "cell_type": "markdown",
   "metadata": {},
   "source": [
    "**Problem 2.** We describe the bias-variance tradeoff, examine the role of regularization in the tradeoff, and make reference to our findings above."
   ]
  },
  {
   "cell_type": "markdown",
   "metadata": {},
   "source": [
    "Bias refers to the error introduced by representing a problem in reality with a mathematical model, one that is ostensibly a simplification. The more flexible the model is in representing the real-life situation, the lower its bias. Conversely, variance measures how a model's fit changes when exposed to different datasets. If the same model is exposed to different datasets from the same distribution, the hope is that the different resulting models are relatively similar. If this process instead yields wildly different models, then the variance is high, as the model was so flexible that it fit the noise in the various datasets. Thus, there is a tradeoff: it's really easy to select a model with high variance and low bias (a function that passes through all the training data points) as well as one with low variance and high bias (a straight line). The bias-variance tradeoff encodes a competition between flexibility and consistency: models should be flexible enough to represent complex relationships (want low bias) but not so flexible that they fit unimportant behaviors when training (want low variance).\n",
    "\n",
    "LASSO and ridge regression allow us to use the numeric predictors in the dataset while shrinking the coefficients of the model. LASSO regression shrinks coefficients towards zero and if $\\alpha$ is large enough, the coefficients become exactly zero. Ridge regression shrinks coefficients towards zero, but none of the coefficients ever vanish, so all the numeric predictors are retained.\n",
    "\n",
    "With respect to our findings in Problem 1, the plots demonstrate that the regression coefficients shrink towards zero as $\\alpha$ increases. When $\\alpha$ is small (left-hand side of the plots), the regularized coefficients in either model are roughly just least squares estimates, since regularization isn't playing much of a role. When $\\alpha$ is really big (right-hand side of the plots), regularization is having a prominent effect as the coefficients of the model approach zero (or become zero in the case of LASSO). This means that the models become less flexible as fewer and fewer features play a role in predicting the output. So, as $\\alpha$ increases, variance decreases and bias increases."
   ]
  }
 ],
 "metadata": {
  "kernelspec": {
   "display_name": "Python 3",
   "language": "python",
   "name": "python3"
  },
  "language_info": {
   "codemirror_mode": {
    "name": "ipython",
    "version": 3
   },
   "file_extension": ".py",
   "mimetype": "text/x-python",
   "name": "python",
   "nbconvert_exporter": "python",
   "pygments_lexer": "ipython3",
   "version": "3.7.3"
  }
 },
 "nbformat": 4,
 "nbformat_minor": 2
}
